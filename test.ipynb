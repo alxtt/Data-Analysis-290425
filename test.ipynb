{
 "cells": [
  {
   "cell_type": "markdown",
   "id": "cc782777",
   "metadata": {},
   "source": [
    "## Импорт"
   ]
  },
  {
   "cell_type": "code",
   "execution_count": 1,
   "id": "e35bdfb2",
   "metadata": {},
   "outputs": [],
   "source": [
    "import pandas as pd\n",
    "import seaborn as sns\n",
    "import matplotlib.pyplot as plt"
   ]
  },
  {
   "cell_type": "markdown",
   "id": "360405cb",
   "metadata": {},
   "source": [
    "### Загружаем и обрабатываем данные"
   ]
  },
  {
   "cell_type": "markdown",
   "id": "0810eab2",
   "metadata": {},
   "source": [
    "Загрузка данных из csv, проверка на null, дубликаты и неверные данные. Разделение колонки event_label на city и comment. Удаление чисел из колонки comment. Приведение данных о городах к единому формату."
   ]
  },
  {
   "cell_type": "code",
   "execution_count": 2,
   "id": "55b87f31",
   "metadata": {},
   "outputs": [],
   "source": [
    "df = pd.read_csv(\"data.csv\")"
   ]
  },
  {
   "cell_type": "code",
   "execution_count": 3,
   "id": "a1ecf4d6",
   "metadata": {},
   "outputs": [
    {
     "data": {
      "text/plain": [
       "event_category    0\n",
       "event_action      0\n",
       "event_label       0\n",
       "total_events      0\n",
       "unique_events     0\n",
       "dtype: int64"
      ]
     },
     "execution_count": 3,
     "metadata": {},
     "output_type": "execute_result"
    }
   ],
   "source": [
    "df.isnull().sum()"
   ]
  },
  {
   "cell_type": "code",
   "execution_count": 4,
   "id": "8d426423",
   "metadata": {},
   "outputs": [
    {
     "data": {
      "text/plain": [
       "event_category    object\n",
       "event_action      object\n",
       "event_label       object\n",
       "total_events       int64\n",
       "unique_events      int64\n",
       "dtype: object"
      ]
     },
     "execution_count": 4,
     "metadata": {},
     "output_type": "execute_result"
    }
   ],
   "source": [
    "df.dtypes"
   ]
  },
  {
   "cell_type": "code",
   "execution_count": 5,
   "id": "2dc5d42a",
   "metadata": {},
   "outputs": [
    {
     "data": {
      "text/plain": [
       "0"
      ]
     },
     "execution_count": 5,
     "metadata": {},
     "output_type": "execute_result"
    }
   ],
   "source": [
    "df.duplicated().sum()"
   ]
  },
  {
   "cell_type": "code",
   "execution_count": 7,
   "id": "389142fd",
   "metadata": {},
   "outputs": [],
   "source": [
    "df[['city','comment']] = df['event_label'].str.split('/',expand=True)"
   ]
  },
  {
   "cell_type": "code",
   "execution_count": 8,
   "id": "5b59713b",
   "metadata": {},
   "outputs": [],
   "source": [
    "df = df.drop('event_label', axis=1)"
   ]
  },
  {
   "cell_type": "code",
   "execution_count": 9,
   "id": "051c84b0",
   "metadata": {},
   "outputs": [],
   "source": [
    "df['comment'] = df['comment'].str.replace(r'\\d+', '', regex=True)"
   ]
  },
  {
   "cell_type": "code",
   "execution_count": 10,
   "id": "54ef698a",
   "metadata": {},
   "outputs": [],
   "source": [
    "df['city'] = df['city'].str.strip().str.lower().str.replace(\" \", \"_\")"
   ]
  },
  {
   "cell_type": "markdown",
   "id": "22f713ed",
   "metadata": {},
   "source": [
    "С помощью регулярного выражения обнаружим города со странными названиями. В их числе service-city и test2, очевидно, являющиеся мусорными данными. Убираем их из таблицы."
   ]
  },
  {
   "cell_type": "code",
   "execution_count": 11,
   "id": "59593cd6",
   "metadata": {},
   "outputs": [],
   "source": [
    "weird_labels = df[~df['city'].str.match(r'^[А-Яа-яA-Za-z\\-_]+$')]['city'].value_counts()"
   ]
  },
  {
   "cell_type": "code",
   "execution_count": 12,
   "id": "11ee3f46",
   "metadata": {},
   "outputs": [
    {
     "data": {
      "text/plain": [
       "city\n",
       "hévíz                  37\n",
       "wrocław                 4\n",
       "hluboká_nad_vltavou     2\n",
       "test2                   1\n",
       "portimão                1\n",
       "würzburg                1\n",
       "chernobyl,_pripyat      1\n",
       "óbidos                  1\n",
       "alcobaça                1\n",
       "Name: count, dtype: int64"
      ]
     },
     "execution_count": 12,
     "metadata": {},
     "output_type": "execute_result"
    }
   ],
   "source": [
    "weird_labels"
   ]
  },
  {
   "cell_type": "code",
   "execution_count": 13,
   "id": "d13601b4",
   "metadata": {},
   "outputs": [],
   "source": [
    "df = df[~df['city'].isin(['service-city', 'test2'])]"
   ]
  },
  {
   "cell_type": "markdown",
   "id": "84f9b408",
   "metadata": {},
   "source": [
    "Смотрим на первые 50 записей, чтобы понять структуру таблицы."
   ]
  },
  {
   "cell_type": "code",
   "execution_count": 59,
   "id": "660e817f",
   "metadata": {},
   "outputs": [],
   "source": [
    "pd.set_option('display.max_rows', 50)"
   ]
  },
  {
   "cell_type": "code",
   "execution_count": 60,
   "id": "9ef015c2",
   "metadata": {},
   "outputs": [
    {
     "data": {
      "text/html": [
       "<div>\n",
       "<style scoped>\n",
       "    .dataframe tbody tr th:only-of-type {\n",
       "        vertical-align: middle;\n",
       "    }\n",
       "\n",
       "    .dataframe tbody tr th {\n",
       "        vertical-align: top;\n",
       "    }\n",
       "\n",
       "    .dataframe thead th {\n",
       "        text-align: right;\n",
       "    }\n",
       "</style>\n",
       "<table border=\"1\" class=\"dataframe\">\n",
       "  <thead>\n",
       "    <tr style=\"text-align: right;\">\n",
       "      <th></th>\n",
       "      <th>event_category</th>\n",
       "      <th>event_action</th>\n",
       "      <th>total_events</th>\n",
       "      <th>unique_events</th>\n",
       "      <th>city</th>\n",
       "      <th>comment</th>\n",
       "    </tr>\n",
       "  </thead>\n",
       "  <tbody>\n",
       "    <tr>\n",
       "      <th>0</th>\n",
       "      <td>city_landing</td>\n",
       "      <td>price_button_submit</td>\n",
       "      <td>8</td>\n",
       "      <td>7</td>\n",
       "      <td>tula</td>\n",
       "      <td>Показать предложения ()</td>\n",
       "    </tr>\n",
       "    <tr>\n",
       "      <th>1</th>\n",
       "      <td>city_landing</td>\n",
       "      <td>price_button_submit</td>\n",
       "      <td>12</td>\n",
       "      <td>10</td>\n",
       "      <td>sochi</td>\n",
       "      <td>Показать предложения ()</td>\n",
       "    </tr>\n",
       "    <tr>\n",
       "      <th>2</th>\n",
       "      <td>city_landing</td>\n",
       "      <td>search-tools-button_open</td>\n",
       "      <td>2</td>\n",
       "      <td>2</td>\n",
       "      <td>penza</td>\n",
       "      <td>Сортировка</td>\n",
       "    </tr>\n",
       "    <tr>\n",
       "      <th>3</th>\n",
       "      <td>city_landing</td>\n",
       "      <td>filters-categories_click</td>\n",
       "      <td>1</td>\n",
       "      <td>1</td>\n",
       "      <td>gelendzhik</td>\n",
       "      <td>ЭКСКУРСИИ В ГЕЛЕНДЖИКЕ ЦЕНЫ</td>\n",
       "    </tr>\n",
       "    <tr>\n",
       "      <th>4</th>\n",
       "      <td>city_landing</td>\n",
       "      <td>price_button_submit</td>\n",
       "      <td>2</td>\n",
       "      <td>2</td>\n",
       "      <td>moscow</td>\n",
       "      <td>Показать предложения ()</td>\n",
       "    </tr>\n",
       "    <tr>\n",
       "      <th>5</th>\n",
       "      <td>city_landing</td>\n",
       "      <td>clear_filter_mobile</td>\n",
       "      <td>12</td>\n",
       "      <td>11</td>\n",
       "      <td>vienna</td>\n",
       "      <td>None</td>\n",
       "    </tr>\n",
       "    <tr>\n",
       "      <th>6</th>\n",
       "      <td>city_landing</td>\n",
       "      <td>start_date_click</td>\n",
       "      <td>9</td>\n",
       "      <td>4</td>\n",
       "      <td>vilnius</td>\n",
       "      <td>None</td>\n",
       "    </tr>\n",
       "    <tr>\n",
       "      <th>7</th>\n",
       "      <td>city_landing</td>\n",
       "      <td>ticket-type_checkbox</td>\n",
       "      <td>29</td>\n",
       "      <td>26</td>\n",
       "      <td>irkutsk</td>\n",
       "      <td>Мини-группа</td>\n",
       "    </tr>\n",
       "    <tr>\n",
       "      <th>8</th>\n",
       "      <td>city_landing</td>\n",
       "      <td>price_button_submit</td>\n",
       "      <td>3</td>\n",
       "      <td>3</td>\n",
       "      <td>vladivostok</td>\n",
       "      <td>Показать предложения ()</td>\n",
       "    </tr>\n",
       "    <tr>\n",
       "      <th>9</th>\n",
       "      <td>city_landing</td>\n",
       "      <td>filters-categories_click</td>\n",
       "      <td>3</td>\n",
       "      <td>3</td>\n",
       "      <td>krakow</td>\n",
       "      <td>Необычные</td>\n",
       "    </tr>\n",
       "    <tr>\n",
       "      <th>10</th>\n",
       "      <td>city_landing</td>\n",
       "      <td>price_button_submit</td>\n",
       "      <td>10</td>\n",
       "      <td>9</td>\n",
       "      <td>sochi</td>\n",
       "      <td>Показать предложения ()</td>\n",
       "    </tr>\n",
       "    <tr>\n",
       "      <th>11</th>\n",
       "      <td>city_landing</td>\n",
       "      <td>filters-categories_click</td>\n",
       "      <td>62</td>\n",
       "      <td>50</td>\n",
       "      <td>barcelona</td>\n",
       "      <td>Сначала самые дешевые</td>\n",
       "    </tr>\n",
       "    <tr>\n",
       "      <th>12</th>\n",
       "      <td>city_landing</td>\n",
       "      <td>filters-categories_click</td>\n",
       "      <td>42</td>\n",
       "      <td>32</td>\n",
       "      <td>novorossiysk</td>\n",
       "      <td>Автобусные</td>\n",
       "    </tr>\n",
       "    <tr>\n",
       "      <th>13</th>\n",
       "      <td>city_landing</td>\n",
       "      <td>search-tools-button_open</td>\n",
       "      <td>9</td>\n",
       "      <td>9</td>\n",
       "      <td>crete</td>\n",
       "      <td>Фильтры Выбрано:</td>\n",
       "    </tr>\n",
       "    <tr>\n",
       "      <th>14</th>\n",
       "      <td>city_landing</td>\n",
       "      <td>price_button_submit</td>\n",
       "      <td>27</td>\n",
       "      <td>26</td>\n",
       "      <td>sharm-el-sheikh</td>\n",
       "      <td>Показать предложения ()</td>\n",
       "    </tr>\n",
       "    <tr>\n",
       "      <th>15</th>\n",
       "      <td>city_landing</td>\n",
       "      <td>filters-categories_click</td>\n",
       "      <td>10</td>\n",
       "      <td>8</td>\n",
       "      <td>sergiev_posad</td>\n",
       "      <td>Групповые</td>\n",
       "    </tr>\n",
       "    <tr>\n",
       "      <th>16</th>\n",
       "      <td>city_landing</td>\n",
       "      <td>dates_filter_mobile</td>\n",
       "      <td>2</td>\n",
       "      <td>2</td>\n",
       "      <td>ivanovo</td>\n",
       "      <td>Сегодня</td>\n",
       "    </tr>\n",
       "    <tr>\n",
       "      <th>17</th>\n",
       "      <td>city_landing</td>\n",
       "      <td>price_button_submit</td>\n",
       "      <td>14</td>\n",
       "      <td>12</td>\n",
       "      <td>istanbul</td>\n",
       "      <td>Показать предложения ()</td>\n",
       "    </tr>\n",
       "    <tr>\n",
       "      <th>18</th>\n",
       "      <td>city_landing</td>\n",
       "      <td>search-tools-button_open</td>\n",
       "      <td>2</td>\n",
       "      <td>2</td>\n",
       "      <td>irkutsk</td>\n",
       "      <td>КБЖД</td>\n",
       "    </tr>\n",
       "    <tr>\n",
       "      <th>19</th>\n",
       "      <td>city_landing</td>\n",
       "      <td>price_button_submit</td>\n",
       "      <td>4</td>\n",
       "      <td>3</td>\n",
       "      <td>moscow</td>\n",
       "      <td>Показать предложения ()</td>\n",
       "    </tr>\n",
       "    <tr>\n",
       "      <th>20</th>\n",
       "      <td>city_landing</td>\n",
       "      <td>price_button_submit</td>\n",
       "      <td>1</td>\n",
       "      <td>1</td>\n",
       "      <td>olkhon</td>\n",
       "      <td>Показать предложения ()</td>\n",
       "    </tr>\n",
       "    <tr>\n",
       "      <th>21</th>\n",
       "      <td>city_landing</td>\n",
       "      <td>price_third</td>\n",
       "      <td>6</td>\n",
       "      <td>4</td>\n",
       "      <td>petrozavodsk</td>\n",
       "      <td>None</td>\n",
       "    </tr>\n",
       "    <tr>\n",
       "      <th>22</th>\n",
       "      <td>city_landing</td>\n",
       "      <td>search-tools-button_open</td>\n",
       "      <td>1</td>\n",
       "      <td>1</td>\n",
       "      <td>adler</td>\n",
       "      <td>КАКИЕ ЭКСКУРСИИ В АДЛЕРЕ</td>\n",
       "    </tr>\n",
       "    <tr>\n",
       "      <th>23</th>\n",
       "      <td>city_landing</td>\n",
       "      <td>filters-categories_click</td>\n",
       "      <td>2</td>\n",
       "      <td>1</td>\n",
       "      <td>saint_petersburg</td>\n",
       "      <td>СЕМЕЙНЫЕ ЭКСКУРСИИ В ПЕТЕРБУРГЕ</td>\n",
       "    </tr>\n",
       "    <tr>\n",
       "      <th>24</th>\n",
       "      <td>city_landing</td>\n",
       "      <td>price_button_submit</td>\n",
       "      <td>4</td>\n",
       "      <td>4</td>\n",
       "      <td>tbilisi</td>\n",
       "      <td>Показать предложения ()</td>\n",
       "    </tr>\n",
       "    <tr>\n",
       "      <th>25</th>\n",
       "      <td>city_landing</td>\n",
       "      <td>price_button_submit</td>\n",
       "      <td>2</td>\n",
       "      <td>2</td>\n",
       "      <td>istanbul</td>\n",
       "      <td>Показать предложения ()</td>\n",
       "    </tr>\n",
       "    <tr>\n",
       "      <th>26</th>\n",
       "      <td>city_landing</td>\n",
       "      <td>filters-categories_click</td>\n",
       "      <td>23</td>\n",
       "      <td>17</td>\n",
       "      <td>tula</td>\n",
       "      <td>Обзорные</td>\n",
       "    </tr>\n",
       "    <tr>\n",
       "      <th>27</th>\n",
       "      <td>city_landing</td>\n",
       "      <td>search-tools-button_open</td>\n",
       "      <td>4</td>\n",
       "      <td>4</td>\n",
       "      <td>haifa</td>\n",
       "      <td>Категории Все</td>\n",
       "    </tr>\n",
       "    <tr>\n",
       "      <th>28</th>\n",
       "      <td>city_landing</td>\n",
       "      <td>price_button_submit</td>\n",
       "      <td>1</td>\n",
       "      <td>1</td>\n",
       "      <td>kaliningrad</td>\n",
       "      <td>Показать предложения ()</td>\n",
       "    </tr>\n",
       "    <tr>\n",
       "      <th>29</th>\n",
       "      <td>city_landing</td>\n",
       "      <td>search-tools-button_open</td>\n",
       "      <td>18</td>\n",
       "      <td>16</td>\n",
       "      <td>kaliningrad</td>\n",
       "      <td>Замки</td>\n",
       "    </tr>\n",
       "    <tr>\n",
       "      <th>30</th>\n",
       "      <td>city_landing</td>\n",
       "      <td>price_button_submit</td>\n",
       "      <td>1</td>\n",
       "      <td>1</td>\n",
       "      <td>dusseldorf</td>\n",
       "      <td>Показать предложения ()</td>\n",
       "    </tr>\n",
       "    <tr>\n",
       "      <th>31</th>\n",
       "      <td>city_landing</td>\n",
       "      <td>search-tools-button_open</td>\n",
       "      <td>1</td>\n",
       "      <td>1</td>\n",
       "      <td>san_sebastian</td>\n",
       "      <td>Выбрано:</td>\n",
       "    </tr>\n",
       "    <tr>\n",
       "      <th>32</th>\n",
       "      <td>City Page</td>\n",
       "      <td>Page Visit</td>\n",
       "      <td>3</td>\n",
       "      <td>3</td>\n",
       "      <td>hertogenbosch</td>\n",
       "      <td>None</td>\n",
       "    </tr>\n",
       "    <tr>\n",
       "      <th>33</th>\n",
       "      <td>city_landing</td>\n",
       "      <td>price_button_submit</td>\n",
       "      <td>6</td>\n",
       "      <td>6</td>\n",
       "      <td>ulyanovsk</td>\n",
       "      <td>Показать предложения ()</td>\n",
       "    </tr>\n",
       "    <tr>\n",
       "      <th>34</th>\n",
       "      <td>city_landing</td>\n",
       "      <td>end_date_click</td>\n",
       "      <td>1</td>\n",
       "      <td>1</td>\n",
       "      <td>odessa</td>\n",
       "      <td>None</td>\n",
       "    </tr>\n",
       "    <tr>\n",
       "      <th>35</th>\n",
       "      <td>city_landing</td>\n",
       "      <td>search-tools-button_open</td>\n",
       "      <td>1</td>\n",
       "      <td>1</td>\n",
       "      <td>sharjah</td>\n",
       "      <td>Выбрано:</td>\n",
       "    </tr>\n",
       "    <tr>\n",
       "      <th>36</th>\n",
       "      <td>city_landing</td>\n",
       "      <td>price_button_submit</td>\n",
       "      <td>5</td>\n",
       "      <td>4</td>\n",
       "      <td>saint_petersburg</td>\n",
       "      <td>Показать предложения ()</td>\n",
       "    </tr>\n",
       "    <tr>\n",
       "      <th>37</th>\n",
       "      <td>city_landing</td>\n",
       "      <td>price_button_submit</td>\n",
       "      <td>21</td>\n",
       "      <td>16</td>\n",
       "      <td>sochi</td>\n",
       "      <td>Показать предложения ()</td>\n",
       "    </tr>\n",
       "    <tr>\n",
       "      <th>38</th>\n",
       "      <td>city_landing</td>\n",
       "      <td>price_button_submit</td>\n",
       "      <td>36</td>\n",
       "      <td>32</td>\n",
       "      <td>saint_petersburg</td>\n",
       "      <td>Показать предложения ()</td>\n",
       "    </tr>\n",
       "    <tr>\n",
       "      <th>39</th>\n",
       "      <td>city_landing</td>\n",
       "      <td>search-tools-button_open</td>\n",
       "      <td>3</td>\n",
       "      <td>3</td>\n",
       "      <td>pyatigorsk</td>\n",
       "      <td>ОБЗОРНАЯ ЭКСКУРСИЯ ПО ПЯТИГОРСКУ</td>\n",
       "    </tr>\n",
       "    <tr>\n",
       "      <th>40</th>\n",
       "      <td>city_landing</td>\n",
       "      <td>price_button_submit</td>\n",
       "      <td>1</td>\n",
       "      <td>1</td>\n",
       "      <td>nizhny_novgorod</td>\n",
       "      <td>Показать предложения ()</td>\n",
       "    </tr>\n",
       "    <tr>\n",
       "      <th>41</th>\n",
       "      <td>city_landing</td>\n",
       "      <td>end_date_click</td>\n",
       "      <td>73</td>\n",
       "      <td>66</td>\n",
       "      <td>vyborg</td>\n",
       "      <td>None</td>\n",
       "    </tr>\n",
       "    <tr>\n",
       "      <th>42</th>\n",
       "      <td>city_landing</td>\n",
       "      <td>end_date_click</td>\n",
       "      <td>8</td>\n",
       "      <td>4</td>\n",
       "      <td>gaspra</td>\n",
       "      <td>None</td>\n",
       "    </tr>\n",
       "    <tr>\n",
       "      <th>43</th>\n",
       "      <td>city_landing</td>\n",
       "      <td>price_button_submit</td>\n",
       "      <td>5</td>\n",
       "      <td>4</td>\n",
       "      <td>nizhny_novgorod</td>\n",
       "      <td>Показать предложения ()</td>\n",
       "    </tr>\n",
       "    <tr>\n",
       "      <th>44</th>\n",
       "      <td>city_landing</td>\n",
       "      <td>search-tools-button_open</td>\n",
       "      <td>1</td>\n",
       "      <td>1</td>\n",
       "      <td>evpatoria</td>\n",
       "      <td>Групповые</td>\n",
       "    </tr>\n",
       "    <tr>\n",
       "      <th>45</th>\n",
       "      <td>city_landing</td>\n",
       "      <td>price_third</td>\n",
       "      <td>186</td>\n",
       "      <td>94</td>\n",
       "      <td>saint_petersburg</td>\n",
       "      <td>None</td>\n",
       "    </tr>\n",
       "    <tr>\n",
       "      <th>46</th>\n",
       "      <td>city_landing</td>\n",
       "      <td>filters-categories_click</td>\n",
       "      <td>33</td>\n",
       "      <td>24</td>\n",
       "      <td>novosibirsk</td>\n",
       "      <td>Популярные</td>\n",
       "    </tr>\n",
       "    <tr>\n",
       "      <th>47</th>\n",
       "      <td>city_landing</td>\n",
       "      <td>filters-categories_click</td>\n",
       "      <td>4</td>\n",
       "      <td>4</td>\n",
       "      <td>kolomna</td>\n",
       "      <td>Гастрономические</td>\n",
       "    </tr>\n",
       "    <tr>\n",
       "      <th>48</th>\n",
       "      <td>city_landing</td>\n",
       "      <td>price_button_submit</td>\n",
       "      <td>1</td>\n",
       "      <td>1</td>\n",
       "      <td>vladivostok</td>\n",
       "      <td>Показать предложения ()</td>\n",
       "    </tr>\n",
       "    <tr>\n",
       "      <th>49</th>\n",
       "      <td>city_landing</td>\n",
       "      <td>price_second</td>\n",
       "      <td>3</td>\n",
       "      <td>1</td>\n",
       "      <td>thessaloniki</td>\n",
       "      <td>None</td>\n",
       "    </tr>\n",
       "  </tbody>\n",
       "</table>\n",
       "</div>"
      ],
      "text/plain": [
       "   event_category              event_action  total_events  unique_events  \\\n",
       "0    city_landing       price_button_submit             8              7   \n",
       "1    city_landing       price_button_submit            12             10   \n",
       "2    city_landing  search-tools-button_open             2              2   \n",
       "3    city_landing  filters-categories_click             1              1   \n",
       "4    city_landing       price_button_submit             2              2   \n",
       "5    city_landing       clear_filter_mobile            12             11   \n",
       "6    city_landing          start_date_click             9              4   \n",
       "7    city_landing      ticket-type_checkbox            29             26   \n",
       "8    city_landing       price_button_submit             3              3   \n",
       "9    city_landing  filters-categories_click             3              3   \n",
       "10   city_landing       price_button_submit            10              9   \n",
       "11   city_landing  filters-categories_click            62             50   \n",
       "12   city_landing  filters-categories_click            42             32   \n",
       "13   city_landing  search-tools-button_open             9              9   \n",
       "14   city_landing       price_button_submit            27             26   \n",
       "15   city_landing  filters-categories_click            10              8   \n",
       "16   city_landing       dates_filter_mobile             2              2   \n",
       "17   city_landing       price_button_submit            14             12   \n",
       "18   city_landing  search-tools-button_open             2              2   \n",
       "19   city_landing       price_button_submit             4              3   \n",
       "20   city_landing       price_button_submit             1              1   \n",
       "21   city_landing               price_third             6              4   \n",
       "22   city_landing  search-tools-button_open             1              1   \n",
       "23   city_landing  filters-categories_click             2              1   \n",
       "24   city_landing       price_button_submit             4              4   \n",
       "25   city_landing       price_button_submit             2              2   \n",
       "26   city_landing  filters-categories_click            23             17   \n",
       "27   city_landing  search-tools-button_open             4              4   \n",
       "28   city_landing       price_button_submit             1              1   \n",
       "29   city_landing  search-tools-button_open            18             16   \n",
       "30   city_landing       price_button_submit             1              1   \n",
       "31   city_landing  search-tools-button_open             1              1   \n",
       "32      City Page                Page Visit             3              3   \n",
       "33   city_landing       price_button_submit             6              6   \n",
       "34   city_landing            end_date_click             1              1   \n",
       "35   city_landing  search-tools-button_open             1              1   \n",
       "36   city_landing       price_button_submit             5              4   \n",
       "37   city_landing       price_button_submit            21             16   \n",
       "38   city_landing       price_button_submit            36             32   \n",
       "39   city_landing  search-tools-button_open             3              3   \n",
       "40   city_landing       price_button_submit             1              1   \n",
       "41   city_landing            end_date_click            73             66   \n",
       "42   city_landing            end_date_click             8              4   \n",
       "43   city_landing       price_button_submit             5              4   \n",
       "44   city_landing  search-tools-button_open             1              1   \n",
       "45   city_landing               price_third           186             94   \n",
       "46   city_landing  filters-categories_click            33             24   \n",
       "47   city_landing  filters-categories_click             4              4   \n",
       "48   city_landing       price_button_submit             1              1   \n",
       "49   city_landing              price_second             3              1   \n",
       "\n",
       "                city                            comment  \n",
       "0               tula            Показать предложения ()  \n",
       "1              sochi            Показать предложения ()  \n",
       "2              penza                         Сортировка  \n",
       "3         gelendzhik        ЭКСКУРСИИ В ГЕЛЕНДЖИКЕ ЦЕНЫ  \n",
       "4             moscow            Показать предложения ()  \n",
       "5             vienna                               None  \n",
       "6            vilnius                               None  \n",
       "7            irkutsk                        Мини-группа  \n",
       "8        vladivostok            Показать предложения ()  \n",
       "9             krakow                          Необычные  \n",
       "10             sochi            Показать предложения ()  \n",
       "11         barcelona              Сначала самые дешевые  \n",
       "12      novorossiysk                         Автобусные  \n",
       "13             crete                  Фильтры Выбрано:   \n",
       "14   sharm-el-sheikh            Показать предложения ()  \n",
       "15     sergiev_posad                          Групповые  \n",
       "16           ivanovo                            Сегодня  \n",
       "17          istanbul            Показать предложения ()  \n",
       "18           irkutsk                               КБЖД  \n",
       "19            moscow            Показать предложения ()  \n",
       "20            olkhon            Показать предложения ()  \n",
       "21      petrozavodsk                               None  \n",
       "22             adler           КАКИЕ ЭКСКУРСИИ В АДЛЕРЕ  \n",
       "23  saint_petersburg    СЕМЕЙНЫЕ ЭКСКУРСИИ В ПЕТЕРБУРГЕ  \n",
       "24           tbilisi            Показать предложения ()  \n",
       "25          istanbul            Показать предложения ()  \n",
       "26              tula                           Обзорные  \n",
       "27             haifa                      Категории Все  \n",
       "28       kaliningrad            Показать предложения ()  \n",
       "29       kaliningrad                              Замки  \n",
       "30        dusseldorf            Показать предложения ()  \n",
       "31     san_sebastian                          Выбрано:   \n",
       "32     hertogenbosch                               None  \n",
       "33         ulyanovsk            Показать предложения ()  \n",
       "34            odessa                               None  \n",
       "35           sharjah                          Выбрано:   \n",
       "36  saint_petersburg            Показать предложения ()  \n",
       "37             sochi            Показать предложения ()  \n",
       "38  saint_petersburg            Показать предложения ()  \n",
       "39        pyatigorsk   ОБЗОРНАЯ ЭКСКУРСИЯ ПО ПЯТИГОРСКУ  \n",
       "40   nizhny_novgorod            Показать предложения ()  \n",
       "41            vyborg                               None  \n",
       "42            gaspra                               None  \n",
       "43   nizhny_novgorod            Показать предложения ()  \n",
       "44         evpatoria                          Групповые  \n",
       "45  saint_petersburg                               None  \n",
       "46       novosibirsk                         Популярные  \n",
       "47           kolomna                   Гастрономические  \n",
       "48       vladivostok            Показать предложения ()  \n",
       "49      thessaloniki                               None  "
      ]
     },
     "execution_count": 60,
     "metadata": {},
     "output_type": "execute_result"
    }
   ],
   "source": [
    "df.head(50)"
   ]
  },
  {
   "cell_type": "markdown",
   "id": "2c99fcfd",
   "metadata": {},
   "source": [
    "### Изучаем данные"
   ]
  },
  {
   "cell_type": "markdown",
   "id": "b3ad1c32",
   "metadata": {},
   "source": [
    "Посмотрим на уникальные значения в столбцах событий и комментариев, а также на их число. Это позволит нам составить представление о том, какими элементами интерфейса пользуются чаще всего, и к каким результатам это приводит."
   ]
  },
  {
   "cell_type": "code",
   "execution_count": 16,
   "id": "a15aca01",
   "metadata": {},
   "outputs": [],
   "source": [
    "unique_values = df['event_action'].value_counts()"
   ]
  },
  {
   "cell_type": "code",
   "execution_count": 17,
   "id": "17cbc9e9",
   "metadata": {},
   "outputs": [
    {
     "data": {
      "text/plain": [
       "event_action\n",
       "price_button_submit         7353\n",
       "search-tools-button_open    4847\n",
       "filters-categories_click    3352\n",
       "ticket-type_checkbox         795\n",
       "Page Visit                   649\n",
       "dates_filter_mobile          424\n",
       "start_date_click             298\n",
       "price_button_close           276\n",
       "end_date_click               274\n",
       "pay-type_checkbox            239\n",
       "price_first                  186\n",
       "clear_filter_mobile          164\n",
       "price_second                 126\n",
       "price_third                  101\n",
       "Name: count, dtype: int64"
      ]
     },
     "execution_count": 17,
     "metadata": {},
     "output_type": "execute_result"
    }
   ],
   "source": [
    "unique_values"
   ]
  },
  {
   "cell_type": "code",
   "execution_count": 18,
   "id": "395b7599",
   "metadata": {},
   "outputs": [],
   "source": [
    "unique_events = df.groupby('event_action')['unique_events'].sum().sort_values(ascending=False).head(10)"
   ]
  },
  {
   "cell_type": "code",
   "execution_count": 19,
   "id": "bee5ca77",
   "metadata": {},
   "outputs": [
    {
     "data": {
      "text/plain": [
       "event_action\n",
       "Page Visit                  1384449\n",
       "search-tools-button_open      85772\n",
       "price_button_submit           63062\n",
       "filters-categories_click      62539\n",
       "ticket-type_checkbox          17918\n",
       "start_date_click              14500\n",
       "end_date_click                11738\n",
       "price_button_close            11645\n",
       "dates_filter_mobile           10271\n",
       "price_first                    6676\n",
       "Name: unique_events, dtype: int64"
      ]
     },
     "execution_count": 19,
     "metadata": {},
     "output_type": "execute_result"
    }
   ],
   "source": [
    "unique_events"
   ]
  },
  {
   "cell_type": "markdown",
   "id": "889811d7",
   "metadata": {},
   "source": [
    "Можем сделать вывод, что чаще всего появляются события открытия и применения фильтров (не считая события посещения страницы). Наиболее популярными фильтрами являются фильтр типа группы, фильтр по датам и фильтр по типу оплаты."
   ]
  },
  {
   "cell_type": "code",
   "execution_count": 20,
   "id": "ef37afed",
   "metadata": {},
   "outputs": [
    {
     "data": {
      "text/plain": [
       "comment\n",
       " Показать предложения ()     61063\n",
       " Выбрано:                    24320\n",
       " Фильтры                     17188\n",
       " По рейтингу                 11751\n",
       " Сначала самые дешевые       10033\n",
       " Групповая                    9596\n",
       " Категории                    9328\n",
       " Все                          7961\n",
       " Сортировка                   7556\n",
       " Сначала самые популярные     6485\n",
       "Name: unique_events, dtype: int64"
      ]
     },
     "execution_count": 20,
     "metadata": {},
     "output_type": "execute_result"
    }
   ],
   "source": [
    "unique_comms = df.groupby('comment')['unique_events'].sum().sort_values(ascending=False).head(10)\n",
    "unique_comms.head(30)"
   ]
  },
  {
   "cell_type": "markdown",
   "id": "4a637587",
   "metadata": {},
   "source": [
    "### Сколько людей пользуются фильтрами? \n",
    "\n",
    "Будем считать, что человек воспользовался фильтрами, если он нажал кнопку \"применить фильтры\" (событие price_button_submit).\n",
    "\n",
    "В таком случае достаточно посчитать количество уникальных сессий, в течение которых произошло это событие. Однако, могут быть люди, которые воспользовались фильтрами несколько раз. Чтобы учесть это, вычтем из результата количество событий сброса фильтров (clear_filter_mobile). "
   ]
  },
  {
   "cell_type": "code",
   "execution_count": 21,
   "id": "11ce22e8",
   "metadata": {},
   "outputs": [],
   "source": [
    "records = df[df['event_action'] == 'price_button_submit']"
   ]
  },
  {
   "cell_type": "code",
   "execution_count": 22,
   "id": "8f2a317d",
   "metadata": {},
   "outputs": [],
   "source": [
    "sum_unique_events = records['unique_events'].sum()"
   ]
  },
  {
   "cell_type": "code",
   "execution_count": 23,
   "id": "e59613cf",
   "metadata": {},
   "outputs": [
    {
     "data": {
      "text/plain": [
       "63062"
      ]
     },
     "execution_count": 23,
     "metadata": {},
     "output_type": "execute_result"
    }
   ],
   "source": [
    "sum_unique_events"
   ]
  },
  {
   "cell_type": "code",
   "execution_count": 24,
   "id": "1af8a5a7",
   "metadata": {},
   "outputs": [],
   "source": [
    "records_clear = df[df['event_action'] == 'clear_filter_mobile']"
   ]
  },
  {
   "cell_type": "code",
   "execution_count": 25,
   "id": "8a408665",
   "metadata": {},
   "outputs": [],
   "source": [
    "sum_clear = records_clear['total_events'].sum()"
   ]
  },
  {
   "cell_type": "code",
   "execution_count": 26,
   "id": "8b83d528",
   "metadata": {},
   "outputs": [
    {
     "data": {
      "text/plain": [
       "59464"
      ]
     },
     "execution_count": 26,
     "metadata": {},
     "output_type": "execute_result"
    }
   ],
   "source": [
    "sum_unique_events - sum_clear"
   ]
  },
  {
   "cell_type": "markdown",
   "id": "2ae1a6c3",
   "metadata": {},
   "source": [
    "Ответ на вопрос 1: примерно 59464 человек воспользовались фильтрами.\n",
    "\n",
    "Разница с sum_unique_events небольшая, поэтому в дальнейшем для упрощения расчётов не будем учитывать сбросы."
   ]
  },
  {
   "cell_type": "markdown",
   "id": "76c8c7e7",
   "metadata": {},
   "source": [
    "### В каких городах фильтрами пользуются больше? В каких меньше?\n",
    "\n",
    "Для того, чтобы ответить на этот вопрос, посчитаем сумму всех событий price_button_submit и сгруппируем по городам. \n",
    "\n",
    "Посмотрим на 10 первых и 80 последних записей, чтобы узнать ответы на оба вопроса."
   ]
  },
  {
   "cell_type": "code",
   "execution_count": 27,
   "id": "79c9a697",
   "metadata": {},
   "outputs": [],
   "source": [
    "top_10 = records.groupby('city')['total_events'].sum().sort_values(ascending=False).head(10)"
   ]
  },
  {
   "cell_type": "code",
   "execution_count": 28,
   "id": "f2a0838a",
   "metadata": {},
   "outputs": [
    {
     "data": {
      "text/plain": [
       "city\n",
       "kaliningrad         6113\n",
       "saint_petersburg    5601\n",
       "moscow              3598\n",
       "sochi               3286\n",
       "istanbul            2778\n",
       "dubai               2406\n",
       "budapest            2154\n",
       "kazan               2072\n",
       "anapa               1837\n",
       "sharm-el-sheikh     1661\n",
       "Name: total_events, dtype: int64"
      ]
     },
     "execution_count": 28,
     "metadata": {},
     "output_type": "execute_result"
    }
   ],
   "source": [
    "top_10"
   ]
  },
  {
   "cell_type": "code",
   "execution_count": 29,
   "id": "c76d5026",
   "metadata": {},
   "outputs": [
    {
     "data": {
      "image/png": "[encoded data removed]",
      "text/plain": [
       "<Figure size 864x432 with 1 Axes>"
      ]
     },
     "metadata": {
      "needs_background": "light"
     },
     "output_type": "display_data"
    }
   ],
   "source": [
    "top_20 = records.groupby('city')['total_events'].sum().sort_values(ascending=False).head(20)\n",
    "plt.figure(figsize=(12, 6))\n",
    "sns.barplot(x=top_20.index, y=top_20.values)\n",
    "plt.title(\"Использование фильтров по городам\")\n",
    "plt.xlabel(\"Город\")\n",
    "plt.ylabel(\"Количество уникальных событий\")\n",
    "plt.xticks(rotation=90)\n",
    "plt.show()"
   ]
  },
  {
   "cell_type": "code",
   "execution_count": 30,
   "id": "808c68d3",
   "metadata": {},
   "outputs": [],
   "source": [
    "bottom_20 = records.groupby('city')['total_events'].sum().sort_values(ascending=False).tail(20)"
   ]
  },
  {
   "cell_type": "code",
   "execution_count": 31,
   "id": "0ac45f8f",
   "metadata": {},
   "outputs": [
    {
     "data": {
      "text/plain": [
       "city\n",
       "tarusa           1\n",
       "faro             1\n",
       "chemal           1\n",
       "singapore        1\n",
       "lhasa            1\n",
       "sigulda          1\n",
       "scotland         1\n",
       "montreal         1\n",
       "san_sebastian    1\n",
       "tunis            1\n",
       "tuscany          1\n",
       "cambodia         1\n",
       "manama           1\n",
       "bremen           1\n",
       "valdai           1\n",
       "leipzig          1\n",
       "doha             1\n",
       "las_vegas        1\n",
       "hannover         1\n",
       "klin             1\n",
       "Name: total_events, dtype: int64"
      ]
     },
     "execution_count": 31,
     "metadata": {},
     "output_type": "execute_result"
    }
   ],
   "source": [
    "bottom_20"
   ]
  },
  {
   "cell_type": "markdown",
   "id": "18eae520",
   "metadata": {},
   "source": [
    "Ответ на вопрос 2: чаще всего люди пользуются фильтрами в Калининграде, Санкт-Петербурге и Москве. Меньше всего использований в таких городах как Парма, Тольятти и Лейпциг."
   ]
  },
  {
   "cell_type": "markdown",
   "id": "2aa9d455",
   "metadata": {},
   "source": [
    "### Какие разделы фильтров наиболее востребованы? “фильтры”, “сортировка”, “категории”? \n",
    "\n",
    "Чтобы узнать ответ на этот вопрос, посчитаем количество событий search-tools-button_open и filters-categories_click, которые были вызваны кликом на элементы интерфейса с соответствующим названием."
   ]
  },
  {
   "cell_type": "code",
   "execution_count": 32,
   "id": "d74d50a6",
   "metadata": {},
   "outputs": [],
   "source": [
    "filtered_df = df[df['event_action'].isin(['search-tools-button_open', 'filters-categories_click'])]"
   ]
  },
  {
   "cell_type": "code",
   "execution_count": 33,
   "id": "c56731b2",
   "metadata": {},
   "outputs": [],
   "source": [
    "mask_sort = filtered_df['comment'].str.contains(r'По рейтингу|Сначала|Сортировка')\n",
    "total_sort = filtered_df.loc[mask_sort, 'total_events'].sum()"
   ]
  },
  {
   "cell_type": "code",
   "execution_count": 34,
   "id": "6f8e0db9",
   "metadata": {},
   "outputs": [
    {
     "data": {
      "text/plain": [
       "41246"
      ]
     },
     "execution_count": 34,
     "metadata": {},
     "output_type": "execute_result"
    }
   ],
   "source": [
    "total_sort"
   ]
  },
  {
   "cell_type": "code",
   "execution_count": 35,
   "id": "c9eab0f6",
   "metadata": {},
   "outputs": [],
   "source": [
    "mask_filters = filtered_df['comment'].str.contains(r'Фильтры|Выбрано')\n",
    "total_filters = filtered_df.loc[mask_filters, 'total_events'].sum()"
   ]
  },
  {
   "cell_type": "code",
   "execution_count": 36,
   "id": "c7f34f20",
   "metadata": {},
   "outputs": [
    {
     "data": {
      "text/plain": [
       "48316"
      ]
     },
     "execution_count": 36,
     "metadata": {},
     "output_type": "execute_result"
    }
   ],
   "source": [
    "total_filters"
   ]
  },
  {
   "cell_type": "code",
   "execution_count": 37,
   "id": "986db27c",
   "metadata": {},
   "outputs": [],
   "source": [
    "mask_cat = filtered_df['comment'].str.contains(r'Категории|Групповые|Индивидуальные|Популярные|Все')\n",
    "total_cat = filtered_df.loc[mask_cat, 'total_events'].sum()"
   ]
  },
  {
   "cell_type": "code",
   "execution_count": 38,
   "id": "8eb31589",
   "metadata": {},
   "outputs": [
    {
     "data": {
      "text/plain": [
       "34526"
      ]
     },
     "execution_count": 38,
     "metadata": {},
     "output_type": "execute_result"
    }
   ],
   "source": [
    "total_cat"
   ]
  },
  {
   "cell_type": "markdown",
   "id": "27386331",
   "metadata": {},
   "source": [
    "Очевидно, что фильтры и сортировка пользуются большим успехом, чем категории. Это может быть вызвано, например, большей понятностью интерфейса.\n",
    "\n",
    "(для поиска категорий были использованы только самые популярные слова, тем не менее, они покрывают большую часть данных, что можно заметить, если посмотреть на частоту появления различных комментариев выше)"
   ]
  },
  {
   "cell_type": "markdown",
   "id": "e48c4ac6",
   "metadata": {},
   "source": [
    "### Как часто люди пользуются выбором цены? \n",
    "\n",
    "Посчитаем количество уникальных событий price_first, price_second и price_third. "
   ]
  },
  {
   "cell_type": "code",
   "execution_count": 39,
   "id": "cc5be0f0",
   "metadata": {},
   "outputs": [],
   "source": [
    "prices_df = df[df['event_action'].isin(['price_first', 'price_second', 'price_third'])]"
   ]
  },
  {
   "cell_type": "code",
   "execution_count": 40,
   "id": "a400b310",
   "metadata": {},
   "outputs": [
    {
     "data": {
      "text/plain": [
       "9266"
      ]
     },
     "execution_count": 40,
     "metadata": {},
     "output_type": "execute_result"
    }
   ],
   "source": [
    "prices_df.unique_events.sum()"
   ]
  },
  {
   "cell_type": "markdown",
   "id": "42a16b24",
   "metadata": {},
   "source": [
    "Разделим получившееся число на количество уникальных событий применения фильтров, чтобы получить долю использования этого фильтра в общем количестве."
   ]
  },
  {
   "cell_type": "code",
   "execution_count": 41,
   "id": "14c8e9e0",
   "metadata": {},
   "outputs": [
    {
     "data": {
      "text/plain": [
       "0.14693476261456978"
      ]
     },
     "execution_count": 41,
     "metadata": {},
     "output_type": "execute_result"
    }
   ],
   "source": [
    "prices_df.unique_events.sum() / sum_unique_events"
   ]
  },
  {
   "cell_type": "markdown",
   "id": "73732517",
   "metadata": {},
   "source": [
    "Ответ на вопрос 4: примерно 15% людей воспользовались выбором цены."
   ]
  },
  {
   "cell_type": "markdown",
   "id": "3175364c",
   "metadata": {},
   "source": [
    "## Дополнительно"
   ]
  },
  {
   "cell_type": "markdown",
   "id": "35e3e700",
   "metadata": {},
   "source": [
    "1. Посчитаем конверсию открытий фильтров в их применение. "
   ]
  },
  {
   "cell_type": "code",
   "execution_count": 42,
   "id": "451f6765",
   "metadata": {},
   "outputs": [],
   "source": [
    "opened = df[df['event_action'] == 'search-tools-button_open']['unique_events'].sum()\n",
    "submitted = df[df['event_action'] == 'price_button_submit']['unique_events'].sum()"
   ]
  },
  {
   "cell_type": "code",
   "execution_count": 43,
   "id": "ec1b1aa9",
   "metadata": {},
   "outputs": [],
   "source": [
    "conversion_rate = submitted / opened"
   ]
  },
  {
   "cell_type": "code",
   "execution_count": 44,
   "id": "2c36964f",
   "metadata": {},
   "outputs": [
    {
     "data": {
      "text/plain": [
       "0.7352282796250524"
      ]
     },
     "execution_count": 44,
     "metadata": {},
     "output_type": "execute_result"
    }
   ],
   "source": [
    "conversion_rate"
   ]
  },
  {
   "cell_type": "markdown",
   "id": "e9489d3b",
   "metadata": {},
   "source": [
    "Показатель достаточно высокий: 73% пользователей, открывших меню фильтров, затем применили их для поиска. То, что остальные 27% пользователей закрыли окно, не применив фильтры, может свидетельствовать о неудобном интерфейсе или о том, что среди фильтров не оказалось нужного."
   ]
  },
  {
   "cell_type": "markdown",
   "id": "e453541b",
   "metadata": {},
   "source": [
    "2. Сколько разных фильтров использует средний пользователь? "
   ]
  },
  {
   "cell_type": "code",
   "execution_count": 45,
   "id": "d973333e",
   "metadata": {},
   "outputs": [],
   "source": [
    "filters_df = df[~df['event_action'].isin(['Page Visit', 'search-tools-button_open', \n",
    "                                         'price_button_submit', 'price_button_close', \n",
    "                                         'clear_filter_mobile'])]"
   ]
  },
  {
   "cell_type": "code",
   "execution_count": 46,
   "id": "61910c3b",
   "metadata": {},
   "outputs": [],
   "source": [
    "total_filters = filters_df['unique_events'].sum()"
   ]
  },
  {
   "cell_type": "code",
   "execution_count": 47,
   "id": "e9b99165",
   "metadata": {},
   "outputs": [
    {
     "data": {
      "text/plain": [
       "2.08837334686499"
      ]
     },
     "execution_count": 47,
     "metadata": {},
     "output_type": "execute_result"
    }
   ],
   "source": [
    "total_filters / sum_unique_events"
   ]
  },
  {
   "cell_type": "markdown",
   "id": "a4d2e1e5",
   "metadata": {},
   "source": [
    "Пользователи в среднем используют 2 фильтра из доступных."
   ]
  },
  {
   "cell_type": "markdown",
   "id": "ed060e28",
   "metadata": {},
   "source": [
    "3. Выбор цены: какой из вариантов используют чаще?"
   ]
  },
  {
   "cell_type": "code",
   "execution_count": 48,
   "id": "341c7e51",
   "metadata": {},
   "outputs": [],
   "source": [
    "price_events = filters_df[filters_df['event_action'].str.contains(\"price\")]\n",
    "price_usage = price_events.groupby('event_action')['unique_events'].sum().sort_values(ascending=False)"
   ]
  },
  {
   "cell_type": "code",
   "execution_count": 49,
   "id": "4c0f4c89",
   "metadata": {},
   "outputs": [
    {
     "data": {
      "image/png": "[encoded data removed]",
      "text/plain": [
       "<Figure size 720x432 with 1 Axes>"
      ]
     },
     "metadata": {
      "needs_background": "light"
     },
     "output_type": "display_data"
    }
   ],
   "source": [
    "plt.figure(figsize=(10, 6))\n",
    "sns.barplot(x=price_usage.index, y=price_usage.values)\n",
    "plt.title(\"Использование ценовых фильтров\")\n",
    "plt.xlabel(\"Тип ценового фильтра\")\n",
    "plt.ylabel(\"Количество уникальных событий\")\n",
    "plt.xticks(rotation=45)\n",
    "plt.show()"
   ]
  },
  {
   "cell_type": "markdown",
   "id": "83ff3564",
   "metadata": {},
   "source": [
    "Первый вариант фильтра по цене используется значительно чаще."
   ]
  },
  {
   "cell_type": "markdown",
   "id": "63840c02",
   "metadata": {},
   "source": [
    "4. Поиск выбросов в данных."
   ]
  },
  {
   "cell_type": "code",
   "execution_count": 50,
   "id": "b24ba452",
   "metadata": {},
   "outputs": [],
   "source": [
    "visits = df[df['event_action'] == 'Page Visit'].groupby('city')['unique_events'].sum()"
   ]
  },
  {
   "cell_type": "code",
   "execution_count": 51,
   "id": "390ba6ec",
   "metadata": {},
   "outputs": [],
   "source": [
    "filters = filters_df.groupby('city')['unique_events'].sum()"
   ]
  },
  {
   "cell_type": "code",
   "execution_count": 52,
   "id": "de8c9aed",
   "metadata": {},
   "outputs": [],
   "source": [
    "filter_ratio = (filters / visits).sort_values(ascending=False)"
   ]
  },
  {
   "cell_type": "code",
   "execution_count": 53,
   "id": "dd9b448c",
   "metadata": {},
   "outputs": [
    {
     "data": {
      "image/png": "[encoded data removed]",
      "text/plain": [
       "<Figure size 432x288 with 1 Axes>"
      ]
     },
     "metadata": {
      "needs_background": "light"
     },
     "output_type": "display_data"
    }
   ],
   "source": [
    "sns.boxplot(data=filter_ratio)\n",
    "plt.title('Выбросы в данных')\n",
    "plt.ylabel('Значения')\n",
    "plt.xticks(rotation=45)\n",
    "plt.tight_layout()\n",
    "plt.show()"
   ]
  },
  {
   "cell_type": "code",
   "execution_count": 54,
   "id": "b79c59f1",
   "metadata": {},
   "outputs": [
    {
     "data": {
      "text/plain": [
       "city\n",
       "stresa         1.500000\n",
       "nevyansk       0.750000\n",
       "miass          0.700000\n",
       "manama         0.666667\n",
       "bogolyubovo    0.400000\n",
       "amiens         0.400000\n",
       "rzhev          0.388889\n",
       "ljubljana      0.387097\n",
       "cadiz          0.357143\n",
       "catania        0.352941\n",
       "Name: unique_events, dtype: float64"
      ]
     },
     "execution_count": 54,
     "metadata": {},
     "output_type": "execute_result"
    }
   ],
   "source": [
    "filter_ratio.head(10)"
   ]
  },
  {
   "cell_type": "markdown",
   "id": "e67f9743",
   "metadata": {},
   "source": [
    "Наблюдаем, что для большинства городов соотношение посещений страницы и использования фильтров >0.35, в то время как для города stresa это значение равно 1.5. Однако, количество событий в этом городе в целом очень мало, поэтому данный выброс можно считать статистически не значимым."
   ]
  },
  {
   "cell_type": "markdown",
   "id": "40a6e28b",
   "metadata": {},
   "source": [
    "5. Соотношение общего числа событий и уникальных событий"
   ]
  },
  {
   "cell_type": "code",
   "execution_count": 55,
   "id": "4bbe8f73",
   "metadata": {},
   "outputs": [],
   "source": [
    "ratio = df.groupby('event_action')[['total_events', 'unique_events']].sum()"
   ]
  },
  {
   "cell_type": "code",
   "execution_count": 57,
   "id": "67530bf6",
   "metadata": {},
   "outputs": [],
   "source": [
    "ratio['ratio'] = ratio['total_events'] / ratio['unique_events']"
   ]
  },
  {
   "cell_type": "code",
   "execution_count": 58,
   "id": "7c747c9d",
   "metadata": {},
   "outputs": [
    {
     "data": {
      "text/html": [
       "<div>\n",
       "<style scoped>\n",
       "    .dataframe tbody tr th:only-of-type {\n",
       "        vertical-align: middle;\n",
       "    }\n",
       "\n",
       "    .dataframe tbody tr th {\n",
       "        vertical-align: top;\n",
       "    }\n",
       "\n",
       "    .dataframe thead th {\n",
       "        text-align: right;\n",
       "    }\n",
       "</style>\n",
       "<table border=\"1\" class=\"dataframe\">\n",
       "  <thead>\n",
       "    <tr style=\"text-align: right;\">\n",
       "      <th></th>\n",
       "      <th>total_events</th>\n",
       "      <th>unique_events</th>\n",
       "      <th>ratio</th>\n",
       "    </tr>\n",
       "    <tr>\n",
       "      <th>event_action</th>\n",
       "      <th></th>\n",
       "      <th></th>\n",
       "      <th></th>\n",
       "    </tr>\n",
       "  </thead>\n",
       "  <tbody>\n",
       "    <tr>\n",
       "      <th>Page Visit</th>\n",
       "      <td>2124963</td>\n",
       "      <td>1384449</td>\n",
       "      <td>1.534880</td>\n",
       "    </tr>\n",
       "    <tr>\n",
       "      <th>clear_filter_mobile</th>\n",
       "      <td>3598</td>\n",
       "      <td>2787</td>\n",
       "      <td>1.290994</td>\n",
       "    </tr>\n",
       "    <tr>\n",
       "      <th>dates_filter_mobile</th>\n",
       "      <td>13037</td>\n",
       "      <td>10271</td>\n",
       "      <td>1.269302</td>\n",
       "    </tr>\n",
       "    <tr>\n",
       "      <th>end_date_click</th>\n",
       "      <td>14638</td>\n",
       "      <td>11738</td>\n",
       "      <td>1.247061</td>\n",
       "    </tr>\n",
       "    <tr>\n",
       "      <th>filters-categories_click</th>\n",
       "      <td>80065</td>\n",
       "      <td>62539</td>\n",
       "      <td>1.280241</td>\n",
       "    </tr>\n",
       "    <tr>\n",
       "      <th>pay-type_checkbox</th>\n",
       "      <td>7321</td>\n",
       "      <td>5465</td>\n",
       "      <td>1.339616</td>\n",
       "    </tr>\n",
       "    <tr>\n",
       "      <th>price_button_close</th>\n",
       "      <td>14246</td>\n",
       "      <td>11645</td>\n",
       "      <td>1.223358</td>\n",
       "    </tr>\n",
       "    <tr>\n",
       "      <th>price_button_submit</th>\n",
       "      <td>71889</td>\n",
       "      <td>63062</td>\n",
       "      <td>1.139973</td>\n",
       "    </tr>\n",
       "    <tr>\n",
       "      <th>price_first</th>\n",
       "      <td>8572</td>\n",
       "      <td>6676</td>\n",
       "      <td>1.284002</td>\n",
       "    </tr>\n",
       "    <tr>\n",
       "      <th>price_second</th>\n",
       "      <td>2826</td>\n",
       "      <td>1995</td>\n",
       "      <td>1.416541</td>\n",
       "    </tr>\n",
       "    <tr>\n",
       "      <th>price_third</th>\n",
       "      <td>904</td>\n",
       "      <td>595</td>\n",
       "      <td>1.519328</td>\n",
       "    </tr>\n",
       "    <tr>\n",
       "      <th>search-tools-button_open</th>\n",
       "      <td>94209</td>\n",
       "      <td>85772</td>\n",
       "      <td>1.098365</td>\n",
       "    </tr>\n",
       "    <tr>\n",
       "      <th>start_date_click</th>\n",
       "      <td>19938</td>\n",
       "      <td>14500</td>\n",
       "      <td>1.375034</td>\n",
       "    </tr>\n",
       "    <tr>\n",
       "      <th>ticket-type_checkbox</th>\n",
       "      <td>22882</td>\n",
       "      <td>17918</td>\n",
       "      <td>1.277040</td>\n",
       "    </tr>\n",
       "  </tbody>\n",
       "</table>\n",
       "</div>"
      ],
      "text/plain": [
       "                          total_events  unique_events     ratio\n",
       "event_action                                                   \n",
       "Page Visit                     2124963        1384449  1.534880\n",
       "clear_filter_mobile               3598           2787  1.290994\n",
       "dates_filter_mobile              13037          10271  1.269302\n",
       "end_date_click                   14638          11738  1.247061\n",
       "filters-categories_click         80065          62539  1.280241\n",
       "pay-type_checkbox                 7321           5465  1.339616\n",
       "price_button_close               14246          11645  1.223358\n",
       "price_button_submit              71889          63062  1.139973\n",
       "price_first                       8572           6676  1.284002\n",
       "price_second                      2826           1995  1.416541\n",
       "price_third                        904            595  1.519328\n",
       "search-tools-button_open         94209          85772  1.098365\n",
       "start_date_click                 19938          14500  1.375034\n",
       "ticket-type_checkbox             22882          17918  1.277040"
      ]
     },
     "execution_count": 58,
     "metadata": {},
     "output_type": "execute_result"
    }
   ],
   "source": [
    "ratio "
   ]
  },
  {
   "cell_type": "markdown",
   "id": "58c64769",
   "metadata": {},
   "source": [
    "Видим, что у search-tools-button_open коэффициент почти равен единице, то есть люди, как правило, нажимают кнопку поиска один раз, а затем работают в открывшемся окне, не закрывая его. Самые высокие показатели у Page Visit (пользователи посещают страницу города несколько раз) и у price_third (что может быть вызвано некорректной или неочевидной работой расчёта цены по третьему методу)."
   ]
  }
 ],
 "metadata": {
  "kernelspec": {
   "display_name": "Python 3",
   "language": "python",
   "name": "python3"
  },
  "language_info": {
   "codemirror_mode": {
    "name": "ipython",
    "version": 3
   },
   "file_extension": ".py",
   "mimetype": "text/x-python",
   "name": "python",
   "nbconvert_exporter": "python",
   "pygments_lexer": "ipython3",
   "version": "3.8.8"
  }
 },
 "nbformat": 4,
 "nbformat_minor": 5
}
